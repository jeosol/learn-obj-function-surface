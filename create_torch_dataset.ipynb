{
 "cells": [
  {
   "cell_type": "code",
   "execution_count": 2,
   "id": "2d1d016a-de9d-487e-b061-6e2f09a26ef3",
   "metadata": {},
   "outputs": [],
   "source": [
    "import torch\n",
    "import pandas as pd"
   ]
  },
  {
   "cell_type": "markdown",
   "id": "93029b0e-b8ce-4274-9d04-6ecebf6f2b04",
   "metadata": {},
   "source": [
    "## Read in the dataset"
   ]
  },
  {
   "cell_type": "code",
   "execution_count": 3,
   "id": "a3be5adf-cd22-4cb7-a5eb-d626dc84e1be",
   "metadata": {},
   "outputs": [
    {
     "data": {
      "text/html": [
       "<div>\n",
       "<style scoped>\n",
       "    .dataframe tbody tr th:only-of-type {\n",
       "        vertical-align: middle;\n",
       "    }\n",
       "\n",
       "    .dataframe tbody tr th {\n",
       "        vertical-align: top;\n",
       "    }\n",
       "\n",
       "    .dataframe thead th {\n",
       "        text-align: right;\n",
       "    }\n",
       "</style>\n",
       "<table border=\"1\" class=\"dataframe\">\n",
       "  <thead>\n",
       "    <tr style=\"text-align: right;\">\n",
       "      <th></th>\n",
       "      <th>i</th>\n",
       "      <th>j</th>\n",
       "      <th>1d</th>\n",
       "      <th>f(x)</th>\n",
       "      <th>fx_cut_2</th>\n",
       "      <th>fx_cut_5</th>\n",
       "      <th>fx_cut_10</th>\n",
       "      <th>fx_cut_20</th>\n",
       "      <th>fx_cut_50</th>\n",
       "      <th>fx_cut_100</th>\n",
       "      <th>fx_qcut_2</th>\n",
       "      <th>fx_qcut_5</th>\n",
       "      <th>fx_qcut_10</th>\n",
       "      <th>fx_qcut_20</th>\n",
       "      <th>fx_qcut_50</th>\n",
       "      <th>fx_qcut_100</th>\n",
       "    </tr>\n",
       "  </thead>\n",
       "  <tbody>\n",
       "    <tr>\n",
       "      <th>0</th>\n",
       "      <td>1</td>\n",
       "      <td>1</td>\n",
       "      <td>0</td>\n",
       "      <td>8.342349</td>\n",
       "      <td>1</td>\n",
       "      <td>1</td>\n",
       "      <td>1</td>\n",
       "      <td>1</td>\n",
       "      <td>1</td>\n",
       "      <td>1</td>\n",
       "      <td>1</td>\n",
       "      <td>1</td>\n",
       "      <td>1</td>\n",
       "      <td>1</td>\n",
       "      <td>1</td>\n",
       "      <td>1</td>\n",
       "    </tr>\n",
       "    <tr>\n",
       "      <th>1</th>\n",
       "      <td>2</td>\n",
       "      <td>1</td>\n",
       "      <td>1</td>\n",
       "      <td>9.585238</td>\n",
       "      <td>1</td>\n",
       "      <td>1</td>\n",
       "      <td>1</td>\n",
       "      <td>1</td>\n",
       "      <td>1</td>\n",
       "      <td>1</td>\n",
       "      <td>1</td>\n",
       "      <td>1</td>\n",
       "      <td>1</td>\n",
       "      <td>1</td>\n",
       "      <td>1</td>\n",
       "      <td>1</td>\n",
       "    </tr>\n",
       "    <tr>\n",
       "      <th>2</th>\n",
       "      <td>3</td>\n",
       "      <td>1</td>\n",
       "      <td>2</td>\n",
       "      <td>12.001880</td>\n",
       "      <td>1</td>\n",
       "      <td>1</td>\n",
       "      <td>1</td>\n",
       "      <td>1</td>\n",
       "      <td>1</td>\n",
       "      <td>2</td>\n",
       "      <td>1</td>\n",
       "      <td>1</td>\n",
       "      <td>1</td>\n",
       "      <td>1</td>\n",
       "      <td>1</td>\n",
       "      <td>2</td>\n",
       "    </tr>\n",
       "    <tr>\n",
       "      <th>3</th>\n",
       "      <td>4</td>\n",
       "      <td>1</td>\n",
       "      <td>3</td>\n",
       "      <td>11.961410</td>\n",
       "      <td>1</td>\n",
       "      <td>1</td>\n",
       "      <td>1</td>\n",
       "      <td>1</td>\n",
       "      <td>1</td>\n",
       "      <td>2</td>\n",
       "      <td>1</td>\n",
       "      <td>1</td>\n",
       "      <td>1</td>\n",
       "      <td>1</td>\n",
       "      <td>1</td>\n",
       "      <td>2</td>\n",
       "    </tr>\n",
       "    <tr>\n",
       "      <th>4</th>\n",
       "      <td>5</td>\n",
       "      <td>1</td>\n",
       "      <td>4</td>\n",
       "      <td>11.420570</td>\n",
       "      <td>1</td>\n",
       "      <td>1</td>\n",
       "      <td>1</td>\n",
       "      <td>1</td>\n",
       "      <td>1</td>\n",
       "      <td>2</td>\n",
       "      <td>1</td>\n",
       "      <td>1</td>\n",
       "      <td>1</td>\n",
       "      <td>1</td>\n",
       "      <td>1</td>\n",
       "      <td>2</td>\n",
       "    </tr>\n",
       "    <tr>\n",
       "      <th>...</th>\n",
       "      <td>...</td>\n",
       "      <td>...</td>\n",
       "      <td>...</td>\n",
       "      <td>...</td>\n",
       "      <td>...</td>\n",
       "      <td>...</td>\n",
       "      <td>...</td>\n",
       "      <td>...</td>\n",
       "      <td>...</td>\n",
       "      <td>...</td>\n",
       "      <td>...</td>\n",
       "      <td>...</td>\n",
       "      <td>...</td>\n",
       "      <td>...</td>\n",
       "      <td>...</td>\n",
       "      <td>...</td>\n",
       "    </tr>\n",
       "    <tr>\n",
       "      <th>1595</th>\n",
       "      <td>36</td>\n",
       "      <td>40</td>\n",
       "      <td>1595</td>\n",
       "      <td>26.635980</td>\n",
       "      <td>1</td>\n",
       "      <td>1</td>\n",
       "      <td>1</td>\n",
       "      <td>2</td>\n",
       "      <td>4</td>\n",
       "      <td>8</td>\n",
       "      <td>1</td>\n",
       "      <td>1</td>\n",
       "      <td>2</td>\n",
       "      <td>3</td>\n",
       "      <td>7</td>\n",
       "      <td>14</td>\n",
       "    </tr>\n",
       "    <tr>\n",
       "      <th>1596</th>\n",
       "      <td>37</td>\n",
       "      <td>40</td>\n",
       "      <td>1596</td>\n",
       "      <td>21.991700</td>\n",
       "      <td>1</td>\n",
       "      <td>1</td>\n",
       "      <td>1</td>\n",
       "      <td>2</td>\n",
       "      <td>3</td>\n",
       "      <td>6</td>\n",
       "      <td>1</td>\n",
       "      <td>1</td>\n",
       "      <td>1</td>\n",
       "      <td>2</td>\n",
       "      <td>5</td>\n",
       "      <td>10</td>\n",
       "    </tr>\n",
       "    <tr>\n",
       "      <th>1597</th>\n",
       "      <td>38</td>\n",
       "      <td>40</td>\n",
       "      <td>1597</td>\n",
       "      <td>20.292110</td>\n",
       "      <td>1</td>\n",
       "      <td>1</td>\n",
       "      <td>1</td>\n",
       "      <td>2</td>\n",
       "      <td>3</td>\n",
       "      <td>6</td>\n",
       "      <td>1</td>\n",
       "      <td>1</td>\n",
       "      <td>1</td>\n",
       "      <td>2</td>\n",
       "      <td>4</td>\n",
       "      <td>8</td>\n",
       "    </tr>\n",
       "    <tr>\n",
       "      <th>1598</th>\n",
       "      <td>39</td>\n",
       "      <td>40</td>\n",
       "      <td>1598</td>\n",
       "      <td>20.181530</td>\n",
       "      <td>1</td>\n",
       "      <td>1</td>\n",
       "      <td>1</td>\n",
       "      <td>2</td>\n",
       "      <td>3</td>\n",
       "      <td>6</td>\n",
       "      <td>1</td>\n",
       "      <td>1</td>\n",
       "      <td>1</td>\n",
       "      <td>2</td>\n",
       "      <td>4</td>\n",
       "      <td>8</td>\n",
       "    </tr>\n",
       "    <tr>\n",
       "      <th>1599</th>\n",
       "      <td>40</td>\n",
       "      <td>40</td>\n",
       "      <td>1599</td>\n",
       "      <td>15.084280</td>\n",
       "      <td>1</td>\n",
       "      <td>1</td>\n",
       "      <td>1</td>\n",
       "      <td>1</td>\n",
       "      <td>2</td>\n",
       "      <td>4</td>\n",
       "      <td>1</td>\n",
       "      <td>1</td>\n",
       "      <td>1</td>\n",
       "      <td>1</td>\n",
       "      <td>2</td>\n",
       "      <td>4</td>\n",
       "    </tr>\n",
       "  </tbody>\n",
       "</table>\n",
       "<p>1600 rows × 16 columns</p>\n",
       "</div>"
      ],
      "text/plain": [
       "       i   j    1d       f(x)  fx_cut_2  fx_cut_5  fx_cut_10  fx_cut_20  \\\n",
       "0      1   1     0   8.342349         1         1          1          1   \n",
       "1      2   1     1   9.585238         1         1          1          1   \n",
       "2      3   1     2  12.001880         1         1          1          1   \n",
       "3      4   1     3  11.961410         1         1          1          1   \n",
       "4      5   1     4  11.420570         1         1          1          1   \n",
       "...   ..  ..   ...        ...       ...       ...        ...        ...   \n",
       "1595  36  40  1595  26.635980         1         1          1          2   \n",
       "1596  37  40  1596  21.991700         1         1          1          2   \n",
       "1597  38  40  1597  20.292110         1         1          1          2   \n",
       "1598  39  40  1598  20.181530         1         1          1          2   \n",
       "1599  40  40  1599  15.084280         1         1          1          1   \n",
       "\n",
       "      fx_cut_50  fx_cut_100  fx_qcut_2  fx_qcut_5  fx_qcut_10  fx_qcut_20  \\\n",
       "0             1           1          1          1           1           1   \n",
       "1             1           1          1          1           1           1   \n",
       "2             1           2          1          1           1           1   \n",
       "3             1           2          1          1           1           1   \n",
       "4             1           2          1          1           1           1   \n",
       "...         ...         ...        ...        ...         ...         ...   \n",
       "1595          4           8          1          1           2           3   \n",
       "1596          3           6          1          1           1           2   \n",
       "1597          3           6          1          1           1           2   \n",
       "1598          3           6          1          1           1           2   \n",
       "1599          2           4          1          1           1           1   \n",
       "\n",
       "      fx_qcut_50  fx_qcut_100  \n",
       "0              1            1  \n",
       "1              1            1  \n",
       "2              1            2  \n",
       "3              1            2  \n",
       "4              1            2  \n",
       "...          ...          ...  \n",
       "1595           7           14  \n",
       "1596           5           10  \n",
       "1597           4            8  \n",
       "1598           4            8  \n",
       "1599           2            4  \n",
       "\n",
       "[1600 rows x 16 columns]"
      ]
     },
     "execution_count": 3,
     "metadata": {},
     "output_type": "execute_result"
    }
   ],
   "source": [
    "input_df = pd.read_csv('./data/input_dataset.csv')\n",
    "input_df"
   ]
  },
  {
   "cell_type": "code",
   "execution_count": 23,
   "id": "3eb75b88-cbbd-429b-9b8b-56565233c10a",
   "metadata": {},
   "outputs": [
    {
     "data": {
      "text/plain": [
       "0       1\n",
       "1       1\n",
       "2       1\n",
       "3       1\n",
       "4       1\n",
       "       ..\n",
       "1595    1\n",
       "1596    1\n",
       "1597    1\n",
       "1598    1\n",
       "1599    1\n",
       "Name: fx_cut_2, Length: 1600, dtype: int64"
      ]
     },
     "execution_count": 23,
     "metadata": {},
     "output_type": "execute_result"
    }
   ],
   "source": [
    "input_df['fx_cut_2']"
   ]
  },
  {
   "cell_type": "markdown",
   "id": "b62be136-a134-47e2-950a-57c9e7e93c29",
   "metadata": {},
   "source": [
    "# Create the Torch dataset object\n",
    "\n",
    "Because we want to try different labels for the target data, we create a flexible function that allows us to do so"
   ]
  },
  {
   "cell_type": "code",
   "execution_count": 4,
   "id": "5abed303-af5c-49d3-9ec9-65869fd15830",
   "metadata": {},
   "outputs": [],
   "source": [
    "from torch.utils.data import Dataset"
   ]
  },
  {
   "cell_type": "code",
   "execution_count": 65,
   "id": "24507cd9-47af-458c-a257-e93b7a3c4465",
   "metadata": {},
   "outputs": [],
   "source": [
    "class SimpleDataset(Dataset):\n",
    "    def __init__(self, input_df, label_name):\n",
    "        self.X = input_df[['i', 'j']]\n",
    "        self.y = input_df[label_name]\n",
    "\n",
    "    def __getitem__(self, index):\n",
    "        inputs = torch.tensor(self.X.iloc[index,:], dtype=torch.float32)\n",
    "        labels = torch.tensor(self.y.iloc[index], dtype=torch.int64)\n",
    "        return inputs, labels\n",
    "\n",
    "    def __len__(self):\n",
    "        return self.X.shape[0]\n",
    "\n",
    "def create_simpledataset(label_name):\n",
    "    return SimpleDataset(input_df, label_name)\n",
    "\n",
    "def create_train_test_splits(dataset=None, label_name=None, train_split=0.80):\n",
    "    if dataset is None:\n",
    "        assert label_name is not None\n",
    "        dataset = create_simpledataset(label_name)\n",
    "        \n",
    "    train_size = int(len(dataset) * train_split)\n",
    "    test_size = len(dataset) - train_size\n",
    "    train_dataset, test_dataset = torch.utils.data.random_split(dataset, (train_size, test_size))\n",
    "    print(\"{} examples for training and {} examples for testing\".format(len(train_dataset), len(test_dataset)))\n",
    "    return train_dataset, test_dataset\n",
    "\n"
   ]
  },
  {
   "cell_type": "code",
   "execution_count": 42,
   "id": "46880781-b166-44c3-b08a-406b3c80e270",
   "metadata": {},
   "outputs": [],
   "source": [
    "#dataset = SimpleDataset(input_df, 'fx_cut_2')\n",
    "dataset = create_simpledataset('fx_cut_2')"
   ]
  },
  {
   "cell_type": "code",
   "execution_count": 43,
   "id": "cf7095c5-ece2-4fa7-80e3-ad88c728ea68",
   "metadata": {},
   "outputs": [
    {
     "name": "stderr",
     "output_type": "stream",
     "text": [
      "/tmp/ipykernel_16235/2684170915.py:7: FutureWarning: Series.__getitem__ treating keys as positions is deprecated. In a future version, integer keys will always be treated as labels (consistent with DataFrame behavior). To access a value by position, use `ser.iloc[pos]`\n",
      "  inputs = torch.tensor(self.X.iloc[index,:], dtype=torch.float32)\n"
     ]
    },
    {
     "data": {
      "text/plain": [
       "(tensor([1., 1.]), tensor(1))"
      ]
     },
     "execution_count": 43,
     "metadata": {},
     "output_type": "execute_result"
    }
   ],
   "source": [
    "dataset[0]"
   ]
  },
  {
   "cell_type": "code",
   "execution_count": 44,
   "id": "92fa8a88-4599-4811-837e-9a7bd9332122",
   "metadata": {},
   "outputs": [
    {
     "name": "stdout",
     "output_type": "stream",
     "text": [
      "1600\n",
      "Features:  torch.Size([2])\n",
      "Label of index 0:  tensor(1)\n"
     ]
    },
    {
     "name": "stderr",
     "output_type": "stream",
     "text": [
      "/tmp/ipykernel_16235/2684170915.py:7: FutureWarning: Series.__getitem__ treating keys as positions is deprecated. In a future version, integer keys will always be treated as labels (consistent with DataFrame behavior). To access a value by position, use `ser.iloc[pos]`\n",
      "  inputs = torch.tensor(self.X.iloc[index,:], dtype=torch.float32)\n"
     ]
    }
   ],
   "source": [
    "print(len(dataset))\n",
    "example, label = dataset[0]\n",
    "print(\"Features: \", example.shape)\n",
    "print(\"Label of index 0: \", label)"
   ]
  },
  {
   "cell_type": "code",
   "execution_count": null,
   "id": "b344bfda-1437-4441-9bec-389f2aa0c0c8",
   "metadata": {},
   "outputs": [],
   "source": []
  },
  {
   "cell_type": "code",
   "execution_count": 54,
   "id": "4689bed9-ebf2-46a4-8f65-c82592ec7c84",
   "metadata": {},
   "outputs": [],
   "source": [
    "dataset = SimpleDataset(input_df, 'fx_cut_10')"
   ]
  },
  {
   "cell_type": "code",
   "execution_count": 55,
   "id": "86e68920-82d0-4a6b-ba4c-819ff23556bb",
   "metadata": {},
   "outputs": [
    {
     "data": {
      "text/plain": [
       "<__main__.SimpleDataset at 0x7fd229096d10>"
      ]
     },
     "execution_count": 55,
     "metadata": {},
     "output_type": "execute_result"
    }
   ],
   "source": [
    "dataset"
   ]
  },
  {
   "cell_type": "code",
   "execution_count": 66,
   "id": "8c1b21b4-60e5-42fb-8e4e-fe9d8bc28dbb",
   "metadata": {},
   "outputs": [
    {
     "name": "stdout",
     "output_type": "stream",
     "text": [
      "1280 examples for training and 320 examples for testing\n"
     ]
    }
   ],
   "source": [
    "train_dataset, test_dataset = create_train_test_splits(label_name='fx_cut_10')"
   ]
  },
  {
   "cell_type": "code",
   "execution_count": null,
   "id": "716ec3df-d04e-4215-b724-e2ac2b26666f",
   "metadata": {},
   "outputs": [],
   "source": []
  }
 ],
 "metadata": {
  "kernelspec": {
   "display_name": "inside-deep-learing",
   "language": "python",
   "name": "inside-deep-learing"
  },
  "language_info": {
   "codemirror_mode": {
    "name": "ipython",
    "version": 3
   },
   "file_extension": ".py",
   "mimetype": "text/x-python",
   "name": "python",
   "nbconvert_exporter": "python",
   "pygments_lexer": "ipython3",
   "version": "3.10.0"
  }
 },
 "nbformat": 4,
 "nbformat_minor": 5
}
