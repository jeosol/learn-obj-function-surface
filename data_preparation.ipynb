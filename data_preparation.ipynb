{
 "cells": [
  {
   "cell_type": "markdown",
   "id": "9219ca71-4e1b-4786-a343-80c4de2964aa",
   "metadata": {},
   "source": [
    "# Prepare the data for the modeling"
   ]
  },
  {
   "cell_type": "code",
   "execution_count": 1,
   "id": "8c9814fe-4491-49d3-ae9a-a182ffa1034d",
   "metadata": {},
   "outputs": [],
   "source": []
  },
  {
   "cell_type": "code",
   "execution_count": 3,
   "id": "bbd10b42-ff37-436a-8399-034fb39be341",
   "metadata": {},
   "outputs": [],
   "source": [
    "import pandas as pd\n",
    "import numpy as np"
   ]
  },
  {
   "cell_type": "code",
   "execution_count": 4,
   "id": "d6385071-baae-4171-b6cb-5cd508269e5a",
   "metadata": {},
   "outputs": [],
   "source": [
    "input_file = './data/npv_surface_40_40_1.dat'"
   ]
  },
  {
   "cell_type": "code",
   "execution_count": 13,
   "id": "e19db515-8b64-4205-8b23-026d68448fec",
   "metadata": {},
   "outputs": [],
   "source": [
    "input_df = pd.read_csv(input_file, header=None, names=['f(x)'])"
   ]
  },
  {
   "cell_type": "code",
   "execution_count": 15,
   "id": "f6797aae-50a4-4771-803e-1a9eb26d6024",
   "metadata": {},
   "outputs": [
    {
     "data": {
      "text/html": [
       "<div>\n",
       "<style scoped>\n",
       "    .dataframe tbody tr th:only-of-type {\n",
       "        vertical-align: middle;\n",
       "    }\n",
       "\n",
       "    .dataframe tbody tr th {\n",
       "        vertical-align: top;\n",
       "    }\n",
       "\n",
       "    .dataframe thead th {\n",
       "        text-align: right;\n",
       "    }\n",
       "</style>\n",
       "<table border=\"1\" class=\"dataframe\">\n",
       "  <thead>\n",
       "    <tr style=\"text-align: right;\">\n",
       "      <th></th>\n",
       "      <th>f(x)</th>\n",
       "    </tr>\n",
       "  </thead>\n",
       "  <tbody>\n",
       "    <tr>\n",
       "      <th>0</th>\n",
       "      <td>8.342349</td>\n",
       "    </tr>\n",
       "    <tr>\n",
       "      <th>1</th>\n",
       "      <td>9.585238</td>\n",
       "    </tr>\n",
       "    <tr>\n",
       "      <th>2</th>\n",
       "      <td>12.001880</td>\n",
       "    </tr>\n",
       "    <tr>\n",
       "      <th>3</th>\n",
       "      <td>11.961410</td>\n",
       "    </tr>\n",
       "    <tr>\n",
       "      <th>4</th>\n",
       "      <td>11.420570</td>\n",
       "    </tr>\n",
       "    <tr>\n",
       "      <th>...</th>\n",
       "      <td>...</td>\n",
       "    </tr>\n",
       "    <tr>\n",
       "      <th>1595</th>\n",
       "      <td>26.635980</td>\n",
       "    </tr>\n",
       "    <tr>\n",
       "      <th>1596</th>\n",
       "      <td>21.991700</td>\n",
       "    </tr>\n",
       "    <tr>\n",
       "      <th>1597</th>\n",
       "      <td>20.292110</td>\n",
       "    </tr>\n",
       "    <tr>\n",
       "      <th>1598</th>\n",
       "      <td>20.181530</td>\n",
       "    </tr>\n",
       "    <tr>\n",
       "      <th>1599</th>\n",
       "      <td>15.084280</td>\n",
       "    </tr>\n",
       "  </tbody>\n",
       "</table>\n",
       "<p>1600 rows × 1 columns</p>\n",
       "</div>"
      ],
      "text/plain": [
       "           f(x)\n",
       "0      8.342349\n",
       "1      9.585238\n",
       "2     12.001880\n",
       "3     11.961410\n",
       "4     11.420570\n",
       "...         ...\n",
       "1595  26.635980\n",
       "1596  21.991700\n",
       "1597  20.292110\n",
       "1598  20.181530\n",
       "1599  15.084280\n",
       "\n",
       "[1600 rows x 1 columns]"
      ]
     },
     "execution_count": 15,
     "metadata": {},
     "output_type": "execute_result"
    }
   ],
   "source": [
    "input_df"
   ]
  },
  {
   "cell_type": "markdown",
   "id": "65aafeb2-2114-4cff-9acd-2ed7ae2e37aa",
   "metadata": {},
   "source": [
    "# Add the spatial variables\n",
    "\n",
    "The grid is uniform 40x40 and we use that information to define the (i,j) grid values\n"
   ]
  },
  {
   "cell_type": "code",
   "execution_count": 25,
   "id": "2866f024-26b8-40d0-b070-f0a00ab5357e",
   "metadata": {},
   "outputs": [],
   "source": [
    "import itertools\n",
    "from typing import Tuple, List"
   ]
  },
  {
   "cell_type": "code",
   "execution_count": 17,
   "id": "8eb15dd9-2b4a-45d8-bc85-a84ecafdd56d",
   "metadata": {},
   "outputs": [],
   "source": [
    "# product() is equivalent to nested for loops, yields a generator"
   ]
  },
  {
   "cell_type": "code",
   "execution_count": 20,
   "id": "0ecd3679-a55a-44e1-9ccb-e52e2e3a162a",
   "metadata": {},
   "outputs": [],
   "source": [
    "# grid = itertools.product(range(1,41), range(1, 41), repeat=1)"
   ]
  },
  {
   "cell_type": "code",
   "execution_count": 39,
   "id": "f24b4e57-9a2b-4343-88a7-d2d6f0b03a86",
   "metadata": {},
   "outputs": [],
   "source": [
    "# But we will use a loop format instead for simplicitY\n",
    "NUM_COLS, NUM_ROWS = 40, 40\n",
    "\n",
    "def get_1d_index(i, j):\n",
    "    return (i - 1) + (j - 1) * NUM_ROWS\n",
    "    \n",
    "def generate_grid(num_rows:int, num_cols:int) -> Tuple[List[int], List[int], List[int]]:\n",
    "    total_cells = num_rows * num_cols\n",
    "    x_vals = [0] * total_cells\n",
    "    y_vals = [0] * total_cells \n",
    "    index_1d = [0] * total_cells\n",
    "    for i in range(1, num_rows + 1):\n",
    "        for j in range(1, num_cols + 1): \n",
    "            index = (i-1) + (j-1) * num_rows\n",
    "            x_vals[index] = i\n",
    "            y_vals[index] = j\n",
    "            index_1d[index] = index\n",
    "\n",
    "    return x_vals, y_vals, index_1d\n",
    "    "
   ]
  },
  {
   "cell_type": "code",
   "execution_count": 28,
   "id": "5e8e9940-353a-4a22-81b3-f5902a985be4",
   "metadata": {},
   "outputs": [],
   "source": [
    "x_vals, y_vals, index_1d = generate_grid(num_rows=40, num_cols=40)"
   ]
  },
  {
   "cell_type": "code",
   "execution_count": 31,
   "id": "84e45ec2-37e9-4a6b-a1e6-3a9dd09d9454",
   "metadata": {},
   "outputs": [],
   "source": [
    "input_df['i'] = x_vals\n",
    "input_df['j'] = y_vals\n",
    "input_df['1d'] = index_1d"
   ]
  },
  {
   "cell_type": "code",
   "execution_count": 35,
   "id": "8e5ff92d-a7a9-4f4d-a694-30d218d24d84",
   "metadata": {},
   "outputs": [],
   "source": [
    "# reorder the columnes\n",
    "input_df = input_df[['i','j','1d','f(x)']]"
   ]
  },
  {
   "cell_type": "code",
   "execution_count": 36,
   "id": "266a8a49-b939-444b-b59f-38753c8c0a95",
   "metadata": {},
   "outputs": [
    {
     "data": {
      "text/html": [
       "<div>\n",
       "<style scoped>\n",
       "    .dataframe tbody tr th:only-of-type {\n",
       "        vertical-align: middle;\n",
       "    }\n",
       "\n",
       "    .dataframe tbody tr th {\n",
       "        vertical-align: top;\n",
       "    }\n",
       "\n",
       "    .dataframe thead th {\n",
       "        text-align: right;\n",
       "    }\n",
       "</style>\n",
       "<table border=\"1\" class=\"dataframe\">\n",
       "  <thead>\n",
       "    <tr style=\"text-align: right;\">\n",
       "      <th></th>\n",
       "      <th>i</th>\n",
       "      <th>j</th>\n",
       "      <th>1d</th>\n",
       "      <th>f(x)</th>\n",
       "    </tr>\n",
       "  </thead>\n",
       "  <tbody>\n",
       "    <tr>\n",
       "      <th>0</th>\n",
       "      <td>1</td>\n",
       "      <td>1</td>\n",
       "      <td>0</td>\n",
       "      <td>8.342349</td>\n",
       "    </tr>\n",
       "    <tr>\n",
       "      <th>1</th>\n",
       "      <td>2</td>\n",
       "      <td>1</td>\n",
       "      <td>1</td>\n",
       "      <td>9.585238</td>\n",
       "    </tr>\n",
       "    <tr>\n",
       "      <th>2</th>\n",
       "      <td>3</td>\n",
       "      <td>1</td>\n",
       "      <td>2</td>\n",
       "      <td>12.001880</td>\n",
       "    </tr>\n",
       "    <tr>\n",
       "      <th>3</th>\n",
       "      <td>4</td>\n",
       "      <td>1</td>\n",
       "      <td>3</td>\n",
       "      <td>11.961410</td>\n",
       "    </tr>\n",
       "    <tr>\n",
       "      <th>4</th>\n",
       "      <td>5</td>\n",
       "      <td>1</td>\n",
       "      <td>4</td>\n",
       "      <td>11.420570</td>\n",
       "    </tr>\n",
       "    <tr>\n",
       "      <th>...</th>\n",
       "      <td>...</td>\n",
       "      <td>...</td>\n",
       "      <td>...</td>\n",
       "      <td>...</td>\n",
       "    </tr>\n",
       "    <tr>\n",
       "      <th>1595</th>\n",
       "      <td>36</td>\n",
       "      <td>40</td>\n",
       "      <td>1595</td>\n",
       "      <td>26.635980</td>\n",
       "    </tr>\n",
       "    <tr>\n",
       "      <th>1596</th>\n",
       "      <td>37</td>\n",
       "      <td>40</td>\n",
       "      <td>1596</td>\n",
       "      <td>21.991700</td>\n",
       "    </tr>\n",
       "    <tr>\n",
       "      <th>1597</th>\n",
       "      <td>38</td>\n",
       "      <td>40</td>\n",
       "      <td>1597</td>\n",
       "      <td>20.292110</td>\n",
       "    </tr>\n",
       "    <tr>\n",
       "      <th>1598</th>\n",
       "      <td>39</td>\n",
       "      <td>40</td>\n",
       "      <td>1598</td>\n",
       "      <td>20.181530</td>\n",
       "    </tr>\n",
       "    <tr>\n",
       "      <th>1599</th>\n",
       "      <td>40</td>\n",
       "      <td>40</td>\n",
       "      <td>1599</td>\n",
       "      <td>15.084280</td>\n",
       "    </tr>\n",
       "  </tbody>\n",
       "</table>\n",
       "<p>1600 rows × 4 columns</p>\n",
       "</div>"
      ],
      "text/plain": [
       "       i   j    1d       f(x)\n",
       "0      1   1     0   8.342349\n",
       "1      2   1     1   9.585238\n",
       "2      3   1     2  12.001880\n",
       "3      4   1     3  11.961410\n",
       "4      5   1     4  11.420570\n",
       "...   ..  ..   ...        ...\n",
       "1595  36  40  1595  26.635980\n",
       "1596  37  40  1596  21.991700\n",
       "1597  38  40  1597  20.292110\n",
       "1598  39  40  1598  20.181530\n",
       "1599  40  40  1599  15.084280\n",
       "\n",
       "[1600 rows x 4 columns]"
      ]
     },
     "execution_count": 36,
     "metadata": {},
     "output_type": "execute_result"
    }
   ],
   "source": [
    "input_df"
   ]
  },
  {
   "cell_type": "code",
   "execution_count": 41,
   "id": "66a4fa40-b080-4877-9b75-ea58b996c6c1",
   "metadata": {},
   "outputs": [
    {
     "data": {
      "text/plain": [
       "266.1815"
      ]
     },
     "execution_count": 41,
     "metadata": {},
     "output_type": "execute_result"
    }
   ],
   "source": [
    "# get the maximum objective function\n",
    "max(input_df['f(x)'])"
   ]
  },
  {
   "cell_type": "code",
   "execution_count": 40,
   "id": "a26509ca-746b-449e-a702-ea5d04f47d41",
   "metadata": {},
   "outputs": [
    {
     "data": {
      "text/plain": [
       "i        20.0000\n",
       "j        20.0000\n",
       "1d      779.0000\n",
       "f(x)    266.1815\n",
       "Name: 779, dtype: float64"
      ]
     },
     "execution_count": 40,
     "metadata": {},
     "output_type": "execute_result"
    }
   ],
   "source": [
    "# confirm the objective function at grid (20,20) is the maximum = 266.1815\n",
    "input_df.loc[get_1d_index(20,20)]"
   ]
  },
  {
   "cell_type": "markdown",
   "id": "c4872624-e111-4edb-b4be-c75b6e9559c8",
   "metadata": {},
   "source": [
    "# Derive different"
   ]
  }
 ],
 "metadata": {
  "kernelspec": {
   "display_name": "inside-deep-learing",
   "language": "python",
   "name": "inside-deep-learing"
  },
  "language_info": {
   "codemirror_mode": {
    "name": "ipython",
    "version": 3
   },
   "file_extension": ".py",
   "mimetype": "text/x-python",
   "name": "python",
   "nbconvert_exporter": "python",
   "pygments_lexer": "ipython3",
   "version": "3.10.0"
  }
 },
 "nbformat": 4,
 "nbformat_minor": 5
}
